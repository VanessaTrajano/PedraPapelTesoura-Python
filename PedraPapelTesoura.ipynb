{
  "nbformat": 4,
  "nbformat_minor": 0,
  "metadata": {
    "colab": {
      "provenance": [],
      "authorship_tag": "ABX9TyNy0y7iUWCzmS9o+cqxXjOL",
      "include_colab_link": true
    },
    "kernelspec": {
      "name": "python3",
      "display_name": "Python 3"
    },
    "language_info": {
      "name": "python"
    }
  },
  "cells": [
    {
      "cell_type": "markdown",
      "metadata": {
        "id": "view-in-github",
        "colab_type": "text"
      },
      "source": [
        "<a href=\"https://colab.research.google.com/github/VanessaTrajano/PedraPapelTesoura-Python/blob/main/PedraPapelTesoura.ipynb\" target=\"_parent\"><img src=\"https://colab.research.google.com/assets/colab-badge.svg\" alt=\"Open In Colab\"/></a>"
      ]
    },
    {
      "cell_type": "code",
      "execution_count": 1,
      "metadata": {
        "id": "q53uymlcEwCx",
        "colab": {
          "base_uri": "https://localhost:8080/"
        },
        "outputId": "fa299313-9452-45f4-b949-f6464760867a"
      },
      "outputs": [
        {
          "output_type": "stream",
          "name": "stdout",
          "text": [
            "Pedra, papel ou tesoura: papel\n",
            "Houve um empate! Você e o computador escolheram papel\n"
          ]
        }
      ],
      "source": [
        "import random\n",
        "\n",
        "def jogarPedraPapelTesoura ():\n",
        "  # precisamos que a opção do usuário seja recebida pelo que ele digitar\n",
        "  usuario = input(\"Pedra, papel ou tesoura: \")\n",
        "  # precisamos fazer com que a opção seja escolhida aleatóriamente\n",
        "  computador = random.choice([\"pedra\", \"papel\", \"tesoura\"])\n",
        "\n",
        "  # Aqui você vai converter o texto do usuário e do computador para letras maiúsculas\n",
        "  usuarioUp = usuario.upper()\n",
        "  computadorUp = computador.upper()\n",
        "\n",
        "  if usuarioUp == computadorUp:\n",
        "  # Aqui devemos imprimir empate e dizer qual opção o usuário e o computador escolheram\n",
        "    print(\"Houve um empate! Você e o computador escolheram {}\".format(usuario))\n",
        "    return # porque ??\n",
        "\n",
        "  if jogadorGanhou(usuarioUp, computadorUp):\n",
        "  # Aqui devemos imprimir vitória e dizer quais opções o usuário e o computador escolheam\n",
        "    print(\"Você venceu! Você escolheu {} e o computador escolheu {}.\".format(usuario, computador))\n",
        "    return # porque ??\n",
        "\n",
        "  # Aqui devemos imprimir derrota e dizer quais opções o usuário e o computador escolheram\n",
        "  print(\"Você perdeu! Você escolheu {} e o computador escolheu {}.\".format(usuario, computador))\n",
        "\n",
        "\n",
        "def jogadorGanhou(jogador, adversario):\n",
        "# Aqui devemos testar todas as possibilidades de vitória do jogador.\n",
        "# Quais são elas?? Quais operadores lógicos devemos usar?? E? Ou?\n",
        "  if ( jogador == \"PEDRA\" and adversario == \"TESOURA\" ) or ( jogador == \"PAPEL\" and adversario == \"PEDRA\" ) or ( jogador == \"TESOURA\" and adversario == \"PAPEL\" ):\n",
        "    return True # Retornamos o que em caso de vitória??\n",
        "  return False # Retornamos o que em caso de derrota??\n",
        "\n",
        "# temos que chamar a função pra que o jogo comece\n",
        "# qual função será chamada?\n",
        "jogarPedraPapelTesoura ()"
      ]
    }
  ]
}